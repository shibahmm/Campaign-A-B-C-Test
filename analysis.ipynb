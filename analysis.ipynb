{
 "cells": [
  {
   "cell_type": "markdown",
   "metadata": {},
   "source": [
    "Null Hypothesis (Ho): There is no difference in mean sales between the 3 promotions; no promotion has a statistically significant impact on sales compared to others.\n",
    "aka μ₁ = μ₂ = μ₃\n",
    "Alternative Hypothesis (Ha): At least one promotion has a different mean sales.\n",
    "aka μᵢ ≠ μⱼ for some i, j"
   ]
  },
  {
   "cell_type": "code",
   "execution_count": 5,
   "metadata": {},
   "outputs": [],
   "source": [
    "import pandas as pd\n",
    "import scipy.stats as stats\n",
    "from statsmodels.stats.multicomp import pairwise_tukeyhsd\n",
    "import matplotlib.pyplot as plt\n",
    "import seaborn as sns"
   ]
  },
  {
   "cell_type": "code",
   "execution_count": null,
   "metadata": {},
   "outputs": [],
   "source": [
    "#import CSV dataset\n",
    "df = pd.read_csv(\"E:/Side Projects/Marketing-Campaign-A-B-Test/WA_Marketing-Campaign.csv\")\n",
    "#print(\"First 5 records:\", df.head())"
   ]
  },
  {
   "cell_type": "code",
   "execution_count": 7,
   "metadata": {},
   "outputs": [],
   "source": [
    "#aggregate sales by LocationID (average of 4 weeks)\n",
    "aggregated = df.groupby(['LocationID', 'Promotion', 'MarketSize', 'AgeOfStore'])['SalesInThousands'].mean().reset_index()"
   ]
  },
  {
   "cell_type": "code",
   "execution_count": 8,
   "metadata": {},
   "outputs": [],
   "source": [
    "#split into promotion groups\n",
    "promo_1 = aggregated[aggregated['Promotion'] == 1]['SalesInThousands']\n",
    "promo_2 = aggregated[aggregated['Promotion'] == 2]['SalesInThousands']\n",
    "promo_3 = aggregated[aggregated['Promotion'] == 3]['SalesInThousands']\n"
   ]
  },
  {
   "cell_type": "code",
   "execution_count": 9,
   "metadata": {},
   "outputs": [
    {
     "name": "stdout",
     "output_type": "stream",
     "text": [
      "Promotion 1 Mean Sales: 58.09901162790697\n",
      "Promotion 2 Mean Sales: 47.32941489361702\n",
      "Promotion 3 Mean Sales: 55.364468085106374\n"
     ]
    }
   ],
   "source": [
    "#descriptive statistics\n",
    "print(\"Promotion 1 Mean Sales:\", promo_1.mean())\n",
    "print(\"Promotion 2 Mean Sales:\", promo_2.mean())\n",
    "print(\"Promotion 3 Mean Sales:\", promo_3.mean())"
   ]
  },
  {
   "cell_type": "markdown",
   "metadata": {},
   "source": [
    "Here, we check for ANOVA assumptions"
   ]
  },
  {
   "cell_type": "code",
   "execution_count": 10,
   "metadata": {},
   "outputs": [
    {
     "name": "stdout",
     "output_type": "stream",
     "text": [
      "\n",
      "Normality p-values: Promotion 1 (0.000), Promotion 2 (0.000), Promotion 3 (0.000)\n"
     ]
    }
   ],
   "source": [
    "#1. Normality (Shapiro-Wilk test)\n",
    "_, p1 = stats.shapiro(promo_1)\n",
    "_, p2 = stats.shapiro(promo_2)\n",
    "_, p3 = stats.shapiro(promo_3)\n",
    "print(f\"\\nNormality p-values: Promotion 1 ({p1:.3f}), Promotion 2 ({p2:.3f}), Promotion 3 ({p3:.3f})\")"
   ]
  },
  {
   "cell_type": "code",
   "execution_count": 11,
   "metadata": {},
   "outputs": [
    {
     "name": "stdout",
     "output_type": "stream",
     "text": [
      "\n",
      "Levene's Test p-value: 0.627\n"
     ]
    }
   ],
   "source": [
    "#2. Homogeneity of variances (Levene's test)\n",
    "_, p_levene = stats.levene(promo_1, promo_2, promo_3)\n",
    "print(f\"\\nLevene's Test p-value: {p_levene:.3f}\")\n"
   ]
  },
  {
   "cell_type": "markdown",
   "metadata": {},
   "source": [
    "Now, we run ANOVA or Kruskal-Wallis, depending on p-value"
   ]
  },
  {
   "cell_type": "code",
   "execution_count": 14,
   "metadata": {},
   "outputs": [
    {
     "name": "stdout",
     "output_type": "stream",
     "text": [
      "\n",
      "ANOVA p-value: 0.0037\n"
     ]
    }
   ],
   "source": [
    "if p_levene > 0.05:\n",
    "    #ANOVA\n",
    "    _, p_anova = stats.f_oneway(promo_1, promo_2, promo_3)\n",
    "    print(f\"\\nANOVA p-value: {p_anova:.4f}\")\n",
    "else:\n",
    "    #Kruskal-Wallis (non-parametric)\n",
    "    _, p_kruskal = stats.kruskal(promo_1, promo_2, promo_3)\n",
    "    print(f\"\\nKruskal-Wallis p-value: {p_kruskal:.4f}\")\n"
   ]
  },
  {
   "cell_type": "code",
   "execution_count": 13,
   "metadata": {},
   "outputs": [
    {
     "name": "stdout",
     "output_type": "stream",
     "text": [
      "\n",
      "Tukey HSD Results:\n",
      " Multiple Comparison of Means - Tukey HSD, FWER=0.05 \n",
      "=====================================================\n",
      "group1 group2 meandiff p-adj   lower    upper  reject\n",
      "-----------------------------------------------------\n",
      "     1      2 -10.7696  0.004 -18.5951  -2.944   True\n",
      "     1      3  -2.7345 0.6862 -10.5601   5.091  False\n",
      "     2      3   8.0351 0.0371   0.3854 15.6847   True\n",
      "-----------------------------------------------------\n"
     ]
    }
   ],
   "source": [
    "#post-hoc analysis if overall test is significant\n",
    "if p_anova < 0.05 or p_kruskal < 0.05:\n",
    "    tukey = pairwise_tukeyhsd(\n",
    "        endog=aggregated['SalesInThousands'],\n",
    "        groups=aggregated['Promotion'],\n",
    "        alpha=0.05\n",
    "    )\n",
    "    print(\"\\nTukey HSD Results:\")\n",
    "    print(tukey.summary())\n"
   ]
  },
  {
   "cell_type": "code",
   "execution_count": 15,
   "metadata": {},
   "outputs": [
    {
     "data": {
      "image/png": "[encoded data removed]",
      "text/plain": [
       "<Figure size 1000x600 with 1 Axes>"
      ]
     },
     "metadata": {},
     "output_type": "display_data"
    }
   ],
   "source": [
    "#visualize results\n",
    "plt.figure(figsize=(10, 6))\n",
    "sns.boxplot(x='Promotion', y='SalesInThousands', data=aggregated)\n",
    "plt.title(\"Sales Distribution by Promotion\")\n",
    "plt.show()"
   ]
  }
 ],
 "metadata": {
  "kernelspec": {
   "display_name": "Python 3",
   "language": "python",
   "name": "python3"
  },
  "language_info": {
   "codemirror_mode": {
    "name": "ipython",
    "version": 3
   },
   "file_extension": ".py",
   "mimetype": "text/x-python",
   "name": "python",
   "nbconvert_exporter": "python",
   "pygments_lexer": "ipython3",
   "version": "3.11.0"
  }
 },
 "nbformat": 4,
 "nbformat_minor": 2
}
